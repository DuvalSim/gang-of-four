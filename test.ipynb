{
 "cells": [
  {
   "cell_type": "code",
   "execution_count": 13,
   "metadata": {},
   "outputs": [],
   "source": [
    "from typing import List\n",
    "from enum import StrEnum\n",
    "import random\n",
    "\n",
    "class Suits(StrEnum):\n",
    "        RED = 'Red',\n",
    "        YELLOW = 'Yellow',\n",
    "        GREEN = 'GREEN',\n",
    "        MULTI = 'Multicolor'\n",
    "\n",
    "class Card:\n",
    "    def __init__(self, rank: str, suit: Suits) -> None:\n",
    "        self.rank = rank\n",
    "        self.suit = suit\n",
    "\n",
    "    def __eq__(self, value: object) -> bool:\n",
    "        return (self.rank == value.rank) and (self.suit == value.suit)\n",
    "    \n",
    "    def __str__(self) -> str:\n",
    "        return f\"{self.rank}-{self.suit[0]}\"\n",
    "    \n",
    "    def __repr__(self):\n",
    "        return self.__str__()\n",
    "    "
   ]
  },
  {
   "cell_type": "code",
   "execution_count": 14,
   "metadata": {},
   "outputs": [],
   "source": [
    "list_card = [Card('1', Suits.GREEN), Card('2', Suits.GREEN)]\n",
    "new_card = Card('2', Suits.GREEN)\n",
    "not_in = Card('3', Suits.GREEN)\n"
   ]
  },
  {
   "cell_type": "code",
   "execution_count": 15,
   "metadata": {},
   "outputs": [],
   "source": [
    "list_card.remove(new_card)"
   ]
  },
  {
   "cell_type": "code",
   "execution_count": 16,
   "metadata": {},
   "outputs": [
    {
     "name": "stdout",
     "output_type": "stream",
     "text": [
      "[1-GREEN]\n"
     ]
    }
   ],
   "source": [
    "print(list_card)"
   ]
  },
  {
   "cell_type": "code",
   "execution_count": null,
   "metadata": {},
   "outputs": [],
   "source": []
  }
 ],
 "metadata": {
  "kernelspec": {
   "display_name": ".env",
   "language": "python",
   "name": "python3"
  },
  "language_info": {
   "codemirror_mode": {
    "name": "ipython",
    "version": 3
   },
   "file_extension": ".py",
   "mimetype": "text/x-python",
   "name": "python",
   "nbconvert_exporter": "python",
   "pygments_lexer": "ipython3",
   "version": "3.12.4"
  }
 },
 "nbformat": 4,
 "nbformat_minor": 2
}
